{
 "cells": [
  {
   "cell_type": "code",
   "execution_count": 3,
   "metadata": {
    "collapsed": true
   },
   "outputs": [],
   "source": [
    "import numpy as np\n",
    "from Bio.Seq import Seq\n",
    "from Bio import SeqIO\n",
    "import aaindex\n",
    "\n",
    "import pickle\n",
    "\n",
    "aaindex.init(path=\".\")\n"
   ]
  },
  {
   "cell_type": "code",
   "execution_count": 5,
   "metadata": {
    "collapsed": false
   },
   "outputs": [],
   "source": [
    "aaIndexKeys_file = \"aaindex2_keys.txt\"\n",
    "f = open(aaIndexKeys_file, \"r\")\n",
    "keys = f.readlines()\n",
    "\n",
    "# print len(keys)\n",
    "keys_list = []\n",
    "for key in keys: \n",
    "    key = key.replace(\"\\n\",\"\")\n",
    "    key = key.replace(\"\\r\",\"\")\n",
    "    \n",
    "    keys_list.append(key)\n",
    "    \n",
    "    with open(\"indexKeyList_2_pickle\", \"w\") as f:\n",
    "        pickle.dump(keys_list, f)\n",
    "    "
   ]
  },
  {
   "cell_type": "code",
   "execution_count": null,
   "metadata": {
    "collapsed": true
   },
   "outputs": [],
   "source": []
  }
 ],
 "metadata": {
  "kernelspec": {
   "display_name": "Python [Root]",
   "language": "python",
   "name": "Python [Root]"
  },
  "language_info": {
   "codemirror_mode": {
    "name": "ipython",
    "version": 2
   },
   "file_extension": ".py",
   "mimetype": "text/x-python",
   "name": "python",
   "nbconvert_exporter": "python",
   "pygments_lexer": "ipython2",
   "version": "2.7.12"
  }
 },
 "nbformat": 4,
 "nbformat_minor": 0
}
